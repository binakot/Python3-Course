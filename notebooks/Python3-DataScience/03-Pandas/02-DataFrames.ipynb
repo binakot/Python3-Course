{
 "cells": [
  {
   "cell_type": "code",
   "execution_count": 1,
   "metadata": {},
   "outputs": [],
   "source": [
    "import numpy as np\n",
    "import pandas as pd"
   ]
  },
  {
   "cell_type": "code",
   "execution_count": 2,
   "metadata": {},
   "outputs": [],
   "source": [
    "my_df = pd.DataFrame(np.random.randn(4, 5),[1, 2, 3, 4], \n",
    "                     ['red', 'orange', 'yellow', 'green', 'blue'])"
   ]
  },
  {
   "cell_type": "code",
   "execution_count": 3,
   "metadata": {},
   "outputs": [
    {
     "data": {
      "text/html": [
       "<div>\n",
       "<style scoped>\n",
       "    .dataframe tbody tr th:only-of-type {\n",
       "        vertical-align: middle;\n",
       "    }\n",
       "\n",
       "    .dataframe tbody tr th {\n",
       "        vertical-align: top;\n",
       "    }\n",
       "\n",
       "    .dataframe thead th {\n",
       "        text-align: right;\n",
       "    }\n",
       "</style>\n",
       "<table border=\"1\" class=\"dataframe\">\n",
       "  <thead>\n",
       "    <tr style=\"text-align: right;\">\n",
       "      <th></th>\n",
       "      <th>red</th>\n",
       "      <th>orange</th>\n",
       "      <th>yellow</th>\n",
       "      <th>green</th>\n",
       "      <th>blue</th>\n",
       "    </tr>\n",
       "  </thead>\n",
       "  <tbody>\n",
       "    <tr>\n",
       "      <td>1</td>\n",
       "      <td>0.478994</td>\n",
       "      <td>0.799810</td>\n",
       "      <td>-0.821576</td>\n",
       "      <td>0.388871</td>\n",
       "      <td>-0.259173</td>\n",
       "    </tr>\n",
       "    <tr>\n",
       "      <td>2</td>\n",
       "      <td>-0.055303</td>\n",
       "      <td>-0.933194</td>\n",
       "      <td>-0.682497</td>\n",
       "      <td>0.906130</td>\n",
       "      <td>1.247541</td>\n",
       "    </tr>\n",
       "    <tr>\n",
       "      <td>3</td>\n",
       "      <td>1.029077</td>\n",
       "      <td>-0.116985</td>\n",
       "      <td>-1.370840</td>\n",
       "      <td>0.828849</td>\n",
       "      <td>-0.805605</td>\n",
       "    </tr>\n",
       "    <tr>\n",
       "      <td>4</td>\n",
       "      <td>0.214837</td>\n",
       "      <td>-2.374452</td>\n",
       "      <td>-0.355254</td>\n",
       "      <td>0.818456</td>\n",
       "      <td>0.070614</td>\n",
       "    </tr>\n",
       "  </tbody>\n",
       "</table>\n",
       "</div>"
      ],
      "text/plain": [
       "        red    orange    yellow     green      blue\n",
       "1  0.478994  0.799810 -0.821576  0.388871 -0.259173\n",
       "2 -0.055303 -0.933194 -0.682497  0.906130  1.247541\n",
       "3  1.029077 -0.116985 -1.370840  0.828849 -0.805605\n",
       "4  0.214837 -2.374452 -0.355254  0.818456  0.070614"
      ]
     },
     "execution_count": 3,
     "metadata": {},
     "output_type": "execute_result"
    }
   ],
   "source": [
    "my_df"
   ]
  },
  {
   "cell_type": "code",
   "execution_count": 4,
   "metadata": {},
   "outputs": [
    {
     "data": {
      "text/plain": [
       "1    0.799810\n",
       "2   -0.933194\n",
       "3   -0.116985\n",
       "4   -2.374452\n",
       "Name: orange, dtype: float64"
      ]
     },
     "execution_count": 4,
     "metadata": {},
     "output_type": "execute_result"
    }
   ],
   "source": [
    "my_df['orange']"
   ]
  },
  {
   "cell_type": "code",
   "execution_count": 5,
   "metadata": {},
   "outputs": [
    {
     "data": {
      "text/plain": [
       "1    0.478994\n",
       "2   -0.055303\n",
       "3    1.029077\n",
       "4    0.214837\n",
       "Name: red, dtype: float64"
      ]
     },
     "execution_count": 5,
     "metadata": {},
     "output_type": "execute_result"
    }
   ],
   "source": [
    "my_df['red']"
   ]
  },
  {
   "cell_type": "code",
   "execution_count": 6,
   "metadata": {},
   "outputs": [
    {
     "data": {
      "text/plain": [
       "pandas.core.series.Series"
      ]
     },
     "execution_count": 6,
     "metadata": {},
     "output_type": "execute_result"
    }
   ],
   "source": [
    "type(my_df['orange'])"
   ]
  },
  {
   "cell_type": "code",
   "execution_count": 7,
   "metadata": {},
   "outputs": [
    {
     "data": {
      "text/plain": [
       "pandas.core.frame.DataFrame"
      ]
     },
     "execution_count": 7,
     "metadata": {},
     "output_type": "execute_result"
    }
   ],
   "source": [
    "type(my_df)"
   ]
  },
  {
   "cell_type": "code",
   "execution_count": 9,
   "metadata": {},
   "outputs": [
    {
     "data": {
      "text/html": [
       "<div>\n",
       "<style scoped>\n",
       "    .dataframe tbody tr th:only-of-type {\n",
       "        vertical-align: middle;\n",
       "    }\n",
       "\n",
       "    .dataframe tbody tr th {\n",
       "        vertical-align: top;\n",
       "    }\n",
       "\n",
       "    .dataframe thead th {\n",
       "        text-align: right;\n",
       "    }\n",
       "</style>\n",
       "<table border=\"1\" class=\"dataframe\">\n",
       "  <thead>\n",
       "    <tr style=\"text-align: right;\">\n",
       "      <th></th>\n",
       "      <th>yellow</th>\n",
       "      <th>blue</th>\n",
       "    </tr>\n",
       "  </thead>\n",
       "  <tbody>\n",
       "    <tr>\n",
       "      <td>1</td>\n",
       "      <td>-0.821576</td>\n",
       "      <td>-0.259173</td>\n",
       "    </tr>\n",
       "    <tr>\n",
       "      <td>2</td>\n",
       "      <td>-0.682497</td>\n",
       "      <td>1.247541</td>\n",
       "    </tr>\n",
       "    <tr>\n",
       "      <td>3</td>\n",
       "      <td>-1.370840</td>\n",
       "      <td>-0.805605</td>\n",
       "    </tr>\n",
       "    <tr>\n",
       "      <td>4</td>\n",
       "      <td>-0.355254</td>\n",
       "      <td>0.070614</td>\n",
       "    </tr>\n",
       "  </tbody>\n",
       "</table>\n",
       "</div>"
      ],
      "text/plain": [
       "     yellow      blue\n",
       "1 -0.821576 -0.259173\n",
       "2 -0.682497  1.247541\n",
       "3 -1.370840 -0.805605\n",
       "4 -0.355254  0.070614"
      ]
     },
     "execution_count": 9,
     "metadata": {},
     "output_type": "execute_result"
    }
   ],
   "source": [
    "my_df[['yellow', 'blue']]"
   ]
  },
  {
   "cell_type": "code",
   "execution_count": 10,
   "metadata": {},
   "outputs": [
    {
     "data": {
      "text/plain": [
       "pandas.core.frame.DataFrame"
      ]
     },
     "execution_count": 10,
     "metadata": {},
     "output_type": "execute_result"
    }
   ],
   "source": [
    "type(my_df[['yellow', 'blue']])"
   ]
  },
  {
   "cell_type": "code",
   "execution_count": 11,
   "metadata": {},
   "outputs": [],
   "source": [
    "my_df['indigo'] = my_df['blue']"
   ]
  },
  {
   "cell_type": "code",
   "execution_count": 12,
   "metadata": {},
   "outputs": [
    {
     "data": {
      "text/html": [
       "<div>\n",
       "<style scoped>\n",
       "    .dataframe tbody tr th:only-of-type {\n",
       "        vertical-align: middle;\n",
       "    }\n",
       "\n",
       "    .dataframe tbody tr th {\n",
       "        vertical-align: top;\n",
       "    }\n",
       "\n",
       "    .dataframe thead th {\n",
       "        text-align: right;\n",
       "    }\n",
       "</style>\n",
       "<table border=\"1\" class=\"dataframe\">\n",
       "  <thead>\n",
       "    <tr style=\"text-align: right;\">\n",
       "      <th></th>\n",
       "      <th>red</th>\n",
       "      <th>orange</th>\n",
       "      <th>yellow</th>\n",
       "      <th>green</th>\n",
       "      <th>blue</th>\n",
       "      <th>indigo</th>\n",
       "    </tr>\n",
       "  </thead>\n",
       "  <tbody>\n",
       "    <tr>\n",
       "      <td>1</td>\n",
       "      <td>0.478994</td>\n",
       "      <td>0.799810</td>\n",
       "      <td>-0.821576</td>\n",
       "      <td>0.388871</td>\n",
       "      <td>-0.259173</td>\n",
       "      <td>-0.259173</td>\n",
       "    </tr>\n",
       "    <tr>\n",
       "      <td>2</td>\n",
       "      <td>-0.055303</td>\n",
       "      <td>-0.933194</td>\n",
       "      <td>-0.682497</td>\n",
       "      <td>0.906130</td>\n",
       "      <td>1.247541</td>\n",
       "      <td>1.247541</td>\n",
       "    </tr>\n",
       "    <tr>\n",
       "      <td>3</td>\n",
       "      <td>1.029077</td>\n",
       "      <td>-0.116985</td>\n",
       "      <td>-1.370840</td>\n",
       "      <td>0.828849</td>\n",
       "      <td>-0.805605</td>\n",
       "      <td>-0.805605</td>\n",
       "    </tr>\n",
       "    <tr>\n",
       "      <td>4</td>\n",
       "      <td>0.214837</td>\n",
       "      <td>-2.374452</td>\n",
       "      <td>-0.355254</td>\n",
       "      <td>0.818456</td>\n",
       "      <td>0.070614</td>\n",
       "      <td>0.070614</td>\n",
       "    </tr>\n",
       "  </tbody>\n",
       "</table>\n",
       "</div>"
      ],
      "text/plain": [
       "        red    orange    yellow     green      blue    indigo\n",
       "1  0.478994  0.799810 -0.821576  0.388871 -0.259173 -0.259173\n",
       "2 -0.055303 -0.933194 -0.682497  0.906130  1.247541  1.247541\n",
       "3  1.029077 -0.116985 -1.370840  0.828849 -0.805605 -0.805605\n",
       "4  0.214837 -2.374452 -0.355254  0.818456  0.070614  0.070614"
      ]
     },
     "execution_count": 12,
     "metadata": {},
     "output_type": "execute_result"
    }
   ],
   "source": [
    "my_df"
   ]
  },
  {
   "cell_type": "code",
   "execution_count": 13,
   "metadata": {},
   "outputs": [],
   "source": [
    "my_df['violet'] = my_df['blue'] + my_df['indigo']"
   ]
  },
  {
   "cell_type": "code",
   "execution_count": 14,
   "metadata": {},
   "outputs": [
    {
     "data": {
      "text/html": [
       "<div>\n",
       "<style scoped>\n",
       "    .dataframe tbody tr th:only-of-type {\n",
       "        vertical-align: middle;\n",
       "    }\n",
       "\n",
       "    .dataframe tbody tr th {\n",
       "        vertical-align: top;\n",
       "    }\n",
       "\n",
       "    .dataframe thead th {\n",
       "        text-align: right;\n",
       "    }\n",
       "</style>\n",
       "<table border=\"1\" class=\"dataframe\">\n",
       "  <thead>\n",
       "    <tr style=\"text-align: right;\">\n",
       "      <th></th>\n",
       "      <th>red</th>\n",
       "      <th>orange</th>\n",
       "      <th>yellow</th>\n",
       "      <th>green</th>\n",
       "      <th>blue</th>\n",
       "      <th>indigo</th>\n",
       "      <th>violet</th>\n",
       "    </tr>\n",
       "  </thead>\n",
       "  <tbody>\n",
       "    <tr>\n",
       "      <td>1</td>\n",
       "      <td>0.478994</td>\n",
       "      <td>0.799810</td>\n",
       "      <td>-0.821576</td>\n",
       "      <td>0.388871</td>\n",
       "      <td>-0.259173</td>\n",
       "      <td>-0.259173</td>\n",
       "      <td>-0.518346</td>\n",
       "    </tr>\n",
       "    <tr>\n",
       "      <td>2</td>\n",
       "      <td>-0.055303</td>\n",
       "      <td>-0.933194</td>\n",
       "      <td>-0.682497</td>\n",
       "      <td>0.906130</td>\n",
       "      <td>1.247541</td>\n",
       "      <td>1.247541</td>\n",
       "      <td>2.495082</td>\n",
       "    </tr>\n",
       "    <tr>\n",
       "      <td>3</td>\n",
       "      <td>1.029077</td>\n",
       "      <td>-0.116985</td>\n",
       "      <td>-1.370840</td>\n",
       "      <td>0.828849</td>\n",
       "      <td>-0.805605</td>\n",
       "      <td>-0.805605</td>\n",
       "      <td>-1.611210</td>\n",
       "    </tr>\n",
       "    <tr>\n",
       "      <td>4</td>\n",
       "      <td>0.214837</td>\n",
       "      <td>-2.374452</td>\n",
       "      <td>-0.355254</td>\n",
       "      <td>0.818456</td>\n",
       "      <td>0.070614</td>\n",
       "      <td>0.070614</td>\n",
       "      <td>0.141227</td>\n",
       "    </tr>\n",
       "  </tbody>\n",
       "</table>\n",
       "</div>"
      ],
      "text/plain": [
       "        red    orange    yellow     green      blue    indigo    violet\n",
       "1  0.478994  0.799810 -0.821576  0.388871 -0.259173 -0.259173 -0.518346\n",
       "2 -0.055303 -0.933194 -0.682497  0.906130  1.247541  1.247541  2.495082\n",
       "3  1.029077 -0.116985 -1.370840  0.828849 -0.805605 -0.805605 -1.611210\n",
       "4  0.214837 -2.374452 -0.355254  0.818456  0.070614  0.070614  0.141227"
      ]
     },
     "execution_count": 14,
     "metadata": {},
     "output_type": "execute_result"
    }
   ],
   "source": [
    "my_df"
   ]
  },
  {
   "cell_type": "code",
   "execution_count": 15,
   "metadata": {},
   "outputs": [
    {
     "data": {
      "text/plain": [
       "red      -0.055303\n",
       "orange   -0.933194\n",
       "yellow   -0.682497\n",
       "green     0.906130\n",
       "blue      1.247541\n",
       "indigo    1.247541\n",
       "violet    2.495082\n",
       "Name: 2, dtype: float64"
      ]
     },
     "execution_count": 15,
     "metadata": {},
     "output_type": "execute_result"
    }
   ],
   "source": [
    "my_df.loc[2]"
   ]
  },
  {
   "cell_type": "code",
   "execution_count": 20,
   "metadata": {},
   "outputs": [],
   "source": [
    "my_df.iloc[2] = my_df.loc[2]"
   ]
  },
  {
   "cell_type": "code",
   "execution_count": 21,
   "metadata": {},
   "outputs": [
    {
     "data": {
      "text/plain": [
       "red      -0.055303\n",
       "orange   -0.933194\n",
       "yellow   -0.682497\n",
       "green     0.906130\n",
       "blue      1.247541\n",
       "indigo    1.247541\n",
       "violet    2.495082\n",
       "Name: 3, dtype: float64"
      ]
     },
     "execution_count": 21,
     "metadata": {},
     "output_type": "execute_result"
    }
   ],
   "source": [
    "my_df.iloc[2]"
   ]
  },
  {
   "cell_type": "code",
   "execution_count": 25,
   "metadata": {},
   "outputs": [
    {
     "data": {
      "text/plain": [
       "-0.93319409702939"
      ]
     },
     "execution_count": 25,
     "metadata": {},
     "output_type": "execute_result"
    }
   ],
   "source": [
    "my_df.loc[3, 'orange']"
   ]
  },
  {
   "cell_type": "code",
   "execution_count": 26,
   "metadata": {},
   "outputs": [
    {
     "data": {
      "text/html": [
       "<div>\n",
       "<style scoped>\n",
       "    .dataframe tbody tr th:only-of-type {\n",
       "        vertical-align: middle;\n",
       "    }\n",
       "\n",
       "    .dataframe tbody tr th {\n",
       "        vertical-align: top;\n",
       "    }\n",
       "\n",
       "    .dataframe thead th {\n",
       "        text-align: right;\n",
       "    }\n",
       "</style>\n",
       "<table border=\"1\" class=\"dataframe\">\n",
       "  <thead>\n",
       "    <tr style=\"text-align: right;\">\n",
       "      <th></th>\n",
       "      <th>red</th>\n",
       "      <th>orange</th>\n",
       "      <th>yellow</th>\n",
       "      <th>green</th>\n",
       "      <th>blue</th>\n",
       "      <th>indigo</th>\n",
       "      <th>violet</th>\n",
       "    </tr>\n",
       "  </thead>\n",
       "  <tbody>\n",
       "    <tr>\n",
       "      <td>1</td>\n",
       "      <td>0.478994</td>\n",
       "      <td>0.799810</td>\n",
       "      <td>-0.821576</td>\n",
       "      <td>0.388871</td>\n",
       "      <td>-0.259173</td>\n",
       "      <td>-0.259173</td>\n",
       "      <td>-0.518346</td>\n",
       "    </tr>\n",
       "    <tr>\n",
       "      <td>2</td>\n",
       "      <td>-0.055303</td>\n",
       "      <td>-0.933194</td>\n",
       "      <td>-0.682497</td>\n",
       "      <td>0.906130</td>\n",
       "      <td>1.247541</td>\n",
       "      <td>1.247541</td>\n",
       "      <td>2.495082</td>\n",
       "    </tr>\n",
       "    <tr>\n",
       "      <td>3</td>\n",
       "      <td>-0.055303</td>\n",
       "      <td>-0.933194</td>\n",
       "      <td>-0.682497</td>\n",
       "      <td>0.906130</td>\n",
       "      <td>1.247541</td>\n",
       "      <td>1.247541</td>\n",
       "      <td>2.495082</td>\n",
       "    </tr>\n",
       "    <tr>\n",
       "      <td>4</td>\n",
       "      <td>0.214837</td>\n",
       "      <td>-2.374452</td>\n",
       "      <td>-0.355254</td>\n",
       "      <td>0.818456</td>\n",
       "      <td>0.070614</td>\n",
       "      <td>0.070614</td>\n",
       "      <td>0.141227</td>\n",
       "    </tr>\n",
       "  </tbody>\n",
       "</table>\n",
       "</div>"
      ],
      "text/plain": [
       "        red    orange    yellow     green      blue    indigo    violet\n",
       "1  0.478994  0.799810 -0.821576  0.388871 -0.259173 -0.259173 -0.518346\n",
       "2 -0.055303 -0.933194 -0.682497  0.906130  1.247541  1.247541  2.495082\n",
       "3 -0.055303 -0.933194 -0.682497  0.906130  1.247541  1.247541  2.495082\n",
       "4  0.214837 -2.374452 -0.355254  0.818456  0.070614  0.070614  0.141227"
      ]
     },
     "execution_count": 26,
     "metadata": {},
     "output_type": "execute_result"
    }
   ],
   "source": [
    "my_df"
   ]
  },
  {
   "cell_type": "code",
   "execution_count": 28,
   "metadata": {},
   "outputs": [
    {
     "data": {
      "text/html": [
       "<div>\n",
       "<style scoped>\n",
       "    .dataframe tbody tr th:only-of-type {\n",
       "        vertical-align: middle;\n",
       "    }\n",
       "\n",
       "    .dataframe tbody tr th {\n",
       "        vertical-align: top;\n",
       "    }\n",
       "\n",
       "    .dataframe thead th {\n",
       "        text-align: right;\n",
       "    }\n",
       "</style>\n",
       "<table border=\"1\" class=\"dataframe\">\n",
       "  <thead>\n",
       "    <tr style=\"text-align: right;\">\n",
       "      <th></th>\n",
       "      <th>blue</th>\n",
       "      <th>violet</th>\n",
       "    </tr>\n",
       "  </thead>\n",
       "  <tbody>\n",
       "    <tr>\n",
       "      <td>1</td>\n",
       "      <td>-0.259173</td>\n",
       "      <td>-0.518346</td>\n",
       "    </tr>\n",
       "    <tr>\n",
       "      <td>3</td>\n",
       "      <td>1.247541</td>\n",
       "      <td>2.495082</td>\n",
       "    </tr>\n",
       "  </tbody>\n",
       "</table>\n",
       "</div>"
      ],
      "text/plain": [
       "       blue    violet\n",
       "1 -0.259173 -0.518346\n",
       "3  1.247541  2.495082"
      ]
     },
     "execution_count": 28,
     "metadata": {},
     "output_type": "execute_result"
    }
   ],
   "source": [
    "my_df.loc[[1, 3], ['blue', 'violet']]"
   ]
  },
  {
   "cell_type": "code",
   "execution_count": 31,
   "metadata": {},
   "outputs": [],
   "source": [
    "my_df.drop(3, inplace=True)"
   ]
  },
  {
   "cell_type": "code",
   "execution_count": 32,
   "metadata": {},
   "outputs": [
    {
     "data": {
      "text/html": [
       "<div>\n",
       "<style scoped>\n",
       "    .dataframe tbody tr th:only-of-type {\n",
       "        vertical-align: middle;\n",
       "    }\n",
       "\n",
       "    .dataframe tbody tr th {\n",
       "        vertical-align: top;\n",
       "    }\n",
       "\n",
       "    .dataframe thead th {\n",
       "        text-align: right;\n",
       "    }\n",
       "</style>\n",
       "<table border=\"1\" class=\"dataframe\">\n",
       "  <thead>\n",
       "    <tr style=\"text-align: right;\">\n",
       "      <th></th>\n",
       "      <th>red</th>\n",
       "      <th>orange</th>\n",
       "      <th>yellow</th>\n",
       "      <th>green</th>\n",
       "      <th>blue</th>\n",
       "      <th>indigo</th>\n",
       "      <th>violet</th>\n",
       "    </tr>\n",
       "  </thead>\n",
       "  <tbody>\n",
       "    <tr>\n",
       "      <td>1</td>\n",
       "      <td>0.478994</td>\n",
       "      <td>0.799810</td>\n",
       "      <td>-0.821576</td>\n",
       "      <td>0.388871</td>\n",
       "      <td>-0.259173</td>\n",
       "      <td>-0.259173</td>\n",
       "      <td>-0.518346</td>\n",
       "    </tr>\n",
       "    <tr>\n",
       "      <td>2</td>\n",
       "      <td>-0.055303</td>\n",
       "      <td>-0.933194</td>\n",
       "      <td>-0.682497</td>\n",
       "      <td>0.906130</td>\n",
       "      <td>1.247541</td>\n",
       "      <td>1.247541</td>\n",
       "      <td>2.495082</td>\n",
       "    </tr>\n",
       "    <tr>\n",
       "      <td>4</td>\n",
       "      <td>0.214837</td>\n",
       "      <td>-2.374452</td>\n",
       "      <td>-0.355254</td>\n",
       "      <td>0.818456</td>\n",
       "      <td>0.070614</td>\n",
       "      <td>0.070614</td>\n",
       "      <td>0.141227</td>\n",
       "    </tr>\n",
       "  </tbody>\n",
       "</table>\n",
       "</div>"
      ],
      "text/plain": [
       "        red    orange    yellow     green      blue    indigo    violet\n",
       "1  0.478994  0.799810 -0.821576  0.388871 -0.259173 -0.259173 -0.518346\n",
       "2 -0.055303 -0.933194 -0.682497  0.906130  1.247541  1.247541  2.495082\n",
       "4  0.214837 -2.374452 -0.355254  0.818456  0.070614  0.070614  0.141227"
      ]
     },
     "execution_count": 32,
     "metadata": {},
     "output_type": "execute_result"
    }
   ],
   "source": [
    "my_df"
   ]
  },
  {
   "cell_type": "code",
   "execution_count": 34,
   "metadata": {},
   "outputs": [
    {
     "data": {
      "text/html": [
       "<div>\n",
       "<style scoped>\n",
       "    .dataframe tbody tr th:only-of-type {\n",
       "        vertical-align: middle;\n",
       "    }\n",
       "\n",
       "    .dataframe tbody tr th {\n",
       "        vertical-align: top;\n",
       "    }\n",
       "\n",
       "    .dataframe thead th {\n",
       "        text-align: right;\n",
       "    }\n",
       "</style>\n",
       "<table border=\"1\" class=\"dataframe\">\n",
       "  <thead>\n",
       "    <tr style=\"text-align: right;\">\n",
       "      <th></th>\n",
       "      <th>red</th>\n",
       "      <th>orange</th>\n",
       "      <th>yellow</th>\n",
       "      <th>green</th>\n",
       "      <th>blue</th>\n",
       "      <th>violet</th>\n",
       "    </tr>\n",
       "  </thead>\n",
       "  <tbody>\n",
       "    <tr>\n",
       "      <td>1</td>\n",
       "      <td>0.478994</td>\n",
       "      <td>0.799810</td>\n",
       "      <td>-0.821576</td>\n",
       "      <td>0.388871</td>\n",
       "      <td>-0.259173</td>\n",
       "      <td>-0.518346</td>\n",
       "    </tr>\n",
       "    <tr>\n",
       "      <td>2</td>\n",
       "      <td>-0.055303</td>\n",
       "      <td>-0.933194</td>\n",
       "      <td>-0.682497</td>\n",
       "      <td>0.906130</td>\n",
       "      <td>1.247541</td>\n",
       "      <td>2.495082</td>\n",
       "    </tr>\n",
       "    <tr>\n",
       "      <td>4</td>\n",
       "      <td>0.214837</td>\n",
       "      <td>-2.374452</td>\n",
       "      <td>-0.355254</td>\n",
       "      <td>0.818456</td>\n",
       "      <td>0.070614</td>\n",
       "      <td>0.141227</td>\n",
       "    </tr>\n",
       "  </tbody>\n",
       "</table>\n",
       "</div>"
      ],
      "text/plain": [
       "        red    orange    yellow     green      blue    violet\n",
       "1  0.478994  0.799810 -0.821576  0.388871 -0.259173 -0.518346\n",
       "2 -0.055303 -0.933194 -0.682497  0.906130  1.247541  2.495082\n",
       "4  0.214837 -2.374452 -0.355254  0.818456  0.070614  0.141227"
      ]
     },
     "execution_count": 34,
     "metadata": {},
     "output_type": "execute_result"
    }
   ],
   "source": [
    "my_df.drop('indigo', axis=1)"
   ]
  },
  {
   "cell_type": "code",
   "execution_count": 35,
   "metadata": {},
   "outputs": [
    {
     "data": {
      "text/html": [
       "<div>\n",
       "<style scoped>\n",
       "    .dataframe tbody tr th:only-of-type {\n",
       "        vertical-align: middle;\n",
       "    }\n",
       "\n",
       "    .dataframe tbody tr th {\n",
       "        vertical-align: top;\n",
       "    }\n",
       "\n",
       "    .dataframe thead th {\n",
       "        text-align: right;\n",
       "    }\n",
       "</style>\n",
       "<table border=\"1\" class=\"dataframe\">\n",
       "  <thead>\n",
       "    <tr style=\"text-align: right;\">\n",
       "      <th></th>\n",
       "      <th>red</th>\n",
       "      <th>orange</th>\n",
       "      <th>yellow</th>\n",
       "      <th>green</th>\n",
       "      <th>blue</th>\n",
       "      <th>indigo</th>\n",
       "      <th>violet</th>\n",
       "    </tr>\n",
       "  </thead>\n",
       "  <tbody>\n",
       "    <tr>\n",
       "      <td>1</td>\n",
       "      <td>0.478994</td>\n",
       "      <td>0.799810</td>\n",
       "      <td>-0.821576</td>\n",
       "      <td>0.388871</td>\n",
       "      <td>-0.259173</td>\n",
       "      <td>-0.259173</td>\n",
       "      <td>-0.518346</td>\n",
       "    </tr>\n",
       "    <tr>\n",
       "      <td>2</td>\n",
       "      <td>-0.055303</td>\n",
       "      <td>-0.933194</td>\n",
       "      <td>-0.682497</td>\n",
       "      <td>0.906130</td>\n",
       "      <td>1.247541</td>\n",
       "      <td>1.247541</td>\n",
       "      <td>2.495082</td>\n",
       "    </tr>\n",
       "    <tr>\n",
       "      <td>4</td>\n",
       "      <td>0.214837</td>\n",
       "      <td>-2.374452</td>\n",
       "      <td>-0.355254</td>\n",
       "      <td>0.818456</td>\n",
       "      <td>0.070614</td>\n",
       "      <td>0.070614</td>\n",
       "      <td>0.141227</td>\n",
       "    </tr>\n",
       "  </tbody>\n",
       "</table>\n",
       "</div>"
      ],
      "text/plain": [
       "        red    orange    yellow     green      blue    indigo    violet\n",
       "1  0.478994  0.799810 -0.821576  0.388871 -0.259173 -0.259173 -0.518346\n",
       "2 -0.055303 -0.933194 -0.682497  0.906130  1.247541  1.247541  2.495082\n",
       "4  0.214837 -2.374452 -0.355254  0.818456  0.070614  0.070614  0.141227"
      ]
     },
     "execution_count": 35,
     "metadata": {},
     "output_type": "execute_result"
    }
   ],
   "source": [
    "my_df"
   ]
  },
  {
   "cell_type": "code",
   "execution_count": 36,
   "metadata": {},
   "outputs": [],
   "source": [
    "my_df.drop('indigo', axis=1, inplace=True)"
   ]
  },
  {
   "cell_type": "code",
   "execution_count": 37,
   "metadata": {},
   "outputs": [
    {
     "data": {
      "text/html": [
       "<div>\n",
       "<style scoped>\n",
       "    .dataframe tbody tr th:only-of-type {\n",
       "        vertical-align: middle;\n",
       "    }\n",
       "\n",
       "    .dataframe tbody tr th {\n",
       "        vertical-align: top;\n",
       "    }\n",
       "\n",
       "    .dataframe thead th {\n",
       "        text-align: right;\n",
       "    }\n",
       "</style>\n",
       "<table border=\"1\" class=\"dataframe\">\n",
       "  <thead>\n",
       "    <tr style=\"text-align: right;\">\n",
       "      <th></th>\n",
       "      <th>red</th>\n",
       "      <th>orange</th>\n",
       "      <th>yellow</th>\n",
       "      <th>green</th>\n",
       "      <th>blue</th>\n",
       "      <th>violet</th>\n",
       "    </tr>\n",
       "  </thead>\n",
       "  <tbody>\n",
       "    <tr>\n",
       "      <td>1</td>\n",
       "      <td>0.478994</td>\n",
       "      <td>0.799810</td>\n",
       "      <td>-0.821576</td>\n",
       "      <td>0.388871</td>\n",
       "      <td>-0.259173</td>\n",
       "      <td>-0.518346</td>\n",
       "    </tr>\n",
       "    <tr>\n",
       "      <td>2</td>\n",
       "      <td>-0.055303</td>\n",
       "      <td>-0.933194</td>\n",
       "      <td>-0.682497</td>\n",
       "      <td>0.906130</td>\n",
       "      <td>1.247541</td>\n",
       "      <td>2.495082</td>\n",
       "    </tr>\n",
       "    <tr>\n",
       "      <td>4</td>\n",
       "      <td>0.214837</td>\n",
       "      <td>-2.374452</td>\n",
       "      <td>-0.355254</td>\n",
       "      <td>0.818456</td>\n",
       "      <td>0.070614</td>\n",
       "      <td>0.141227</td>\n",
       "    </tr>\n",
       "  </tbody>\n",
       "</table>\n",
       "</div>"
      ],
      "text/plain": [
       "        red    orange    yellow     green      blue    violet\n",
       "1  0.478994  0.799810 -0.821576  0.388871 -0.259173 -0.518346\n",
       "2 -0.055303 -0.933194 -0.682497  0.906130  1.247541  2.495082\n",
       "4  0.214837 -2.374452 -0.355254  0.818456  0.070614  0.141227"
      ]
     },
     "execution_count": 37,
     "metadata": {},
     "output_type": "execute_result"
    }
   ],
   "source": [
    "my_df"
   ]
  },
  {
   "cell_type": "code",
   "execution_count": 38,
   "metadata": {},
   "outputs": [
    {
     "data": {
      "text/plain": [
       "(3, 6)"
      ]
     },
     "execution_count": 38,
     "metadata": {},
     "output_type": "execute_result"
    }
   ],
   "source": [
    "my_df.shape"
   ]
  },
  {
   "cell_type": "code",
   "execution_count": null,
   "metadata": {},
   "outputs": [],
   "source": []
  }
 ],
 "metadata": {
  "kernelspec": {
   "display_name": "Python 3",
   "language": "python",
   "name": "python3"
  },
  "language_info": {
   "codemirror_mode": {
    "name": "ipython",
    "version": 3
   },
   "file_extension": ".py",
   "mimetype": "text/x-python",
   "name": "python",
   "nbconvert_exporter": "python",
   "pygments_lexer": "ipython3",
   "version": "3.7.4"
  }
 },
 "nbformat": 4,
 "nbformat_minor": 2
}
